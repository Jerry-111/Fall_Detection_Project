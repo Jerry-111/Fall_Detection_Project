{
 "cells": [
  {
   "cell_type": "code",
   "execution_count": 1,
   "metadata": {},
   "outputs": [],
   "source": [
    "import cv2\n",
    "import numpy as np\n",
    "from scipy import ndimage as nd\n",
    "from skimage.filters import sobel"
   ]
  },
  {
   "cell_type": "code",
   "execution_count": 12,
   "metadata": {},
   "outputs": [
    {
     "ename": "KeyboardInterrupt",
     "evalue": "",
     "output_type": "error",
     "traceback": [
      "\u001b[0;31m---------------------------------------------------------------------------\u001b[0m",
      "\u001b[0;31mKeyboardInterrupt\u001b[0m                         Traceback (most recent call last)",
      "\u001b[0;32m/var/folders/cb/hqs2l0_s4n3199mtrlgz9__c0000gn/T/ipykernel_80685/1938067089.py\u001b[0m in \u001b[0;36m<module>\u001b[0;34m\u001b[0m\n\u001b[1;32m      7\u001b[0m         \u001b[0;32mbreak\u001b[0m\u001b[0;34m\u001b[0m\u001b[0;34m\u001b[0m\u001b[0m\n\u001b[1;32m      8\u001b[0m     \u001b[0mframe\u001b[0m \u001b[0;34m=\u001b[0m \u001b[0mcv2\u001b[0m\u001b[0;34m.\u001b[0m\u001b[0mcvtColor\u001b[0m\u001b[0;34m(\u001b[0m\u001b[0mframe\u001b[0m\u001b[0;34m,\u001b[0m \u001b[0mcv2\u001b[0m\u001b[0;34m.\u001b[0m\u001b[0mCOLOR_BGR2GRAY\u001b[0m\u001b[0;34m)\u001b[0m\u001b[0;34m\u001b[0m\u001b[0;34m\u001b[0m\u001b[0m\n\u001b[0;32m----> 9\u001b[0;31m     \u001b[0mcv2\u001b[0m\u001b[0;34m.\u001b[0m\u001b[0mfastNlMeansDenoising\u001b[0m\u001b[0;34m(\u001b[0m\u001b[0mframe\u001b[0m\u001b[0;34m,\u001b[0m \u001b[0;32mNone\u001b[0m\u001b[0;34m,\u001b[0m \u001b[0;36m20\u001b[0m\u001b[0;34m,\u001b[0m \u001b[0;36m7\u001b[0m\u001b[0;34m,\u001b[0m \u001b[0;36m21\u001b[0m\u001b[0;34m)\u001b[0m\u001b[0;34m\u001b[0m\u001b[0;34m\u001b[0m\u001b[0m\n\u001b[0m\u001b[1;32m     10\u001b[0m     \u001b[0mframe\u001b[0m \u001b[0;34m=\u001b[0m \u001b[0mcv2\u001b[0m\u001b[0;34m.\u001b[0m\u001b[0mGaussianBlur\u001b[0m\u001b[0;34m(\u001b[0m\u001b[0mframe\u001b[0m\u001b[0;34m,\u001b[0m \u001b[0;34m(\u001b[0m\u001b[0;36m3\u001b[0m\u001b[0;34m,\u001b[0m\u001b[0;36m3\u001b[0m\u001b[0;34m)\u001b[0m\u001b[0;34m,\u001b[0m \u001b[0mcv2\u001b[0m\u001b[0;34m.\u001b[0m\u001b[0mBORDER_DEFAULT\u001b[0m\u001b[0;34m)\u001b[0m\u001b[0;34m\u001b[0m\u001b[0;34m\u001b[0m\u001b[0m\n\u001b[1;32m     11\u001b[0m     \u001b[0mcv2\u001b[0m\u001b[0;34m.\u001b[0m\u001b[0mimshow\u001b[0m\u001b[0;34m(\u001b[0m\u001b[0;34m'video'\u001b[0m\u001b[0;34m,\u001b[0m\u001b[0mframe\u001b[0m\u001b[0;34m)\u001b[0m\u001b[0;34m\u001b[0m\u001b[0;34m\u001b[0m\u001b[0m\n",
      "\u001b[0;31mKeyboardInterrupt\u001b[0m: "
     ]
    }
   ],
   "source": [
    "cam = cv2.VideoCapture('/Users/jerrychen/Desktop/PythonWorks/Fall_Detection/dataset/chute01/cam1.avi')\n",
    "# cam = cv2.VideoCapture('../dataset/chute01/cam1.avi')\n",
    "ret, frame = cam.read()\n",
    "while True:\n",
    "    ret, frame = cam.read()\n",
    "    if not ret:\n",
    "        break\n",
    "    frame = cv2.cvtColor(frame, cv2.COLOR_BGR2GRAY)\n",
    "    cv2.fastNlMeansDenoising(frame, None, 20, 7, 21) \n",
    "    frame = cv2.GaussianBlur(frame, (3,3), cv2.BORDER_DEFAULT)\n",
    "    cv2.imshow('video',frame)\n",
    "    if cv2.waitKey(25) & 0xFF == ord('q'):\n",
    "        break\n",
    "cam.release()\n",
    "cv2.destroyAllWindows()"
   ]
  },
  {
   "cell_type": "code",
   "execution_count": null,
   "metadata": {},
   "outputs": [],
   "source": []
  },
  {
   "cell_type": "code",
   "execution_count": 2,
   "metadata": {},
   "outputs": [
    {
     "name": "stdout",
     "output_type": "stream",
     "text": [
      "[[0 0 0 ... 0 0 0]\n",
      " [0 0 0 ... 0 0 0]\n",
      " [0 0 0 ... 0 0 0]\n",
      " ...\n",
      " [0 0 0 ... 0 0 0]\n",
      " [0 0 0 ... 0 0 0]\n",
      " [0 0 0 ... 0 0 0]]\n"
     ]
    }
   ],
   "source": [
    "import os\n",
    "\n",
    "\n",
    "MHI_DURATION = 5\n",
    "#MHI_DURATION = 20\n",
    "DEFAULT_THRESHOLD = 32\n",
    "\n",
    "\n",
    "\n",
    "live_video = False\n",
    "video_src = 0\n",
    "if not live_video:\n",
    "    # video_src = \"E:\\Projects\\computer-vision\\computer-vision-python\\opencv-starter\\data/video/Sequence_6/visor_1246523090489_new_6_camera1.avi\".replace('\\\\', '/')\n",
    "    # video_src = \"E:\\Projects\\computer-vision\\computer-vision-python\\opencv-starter\\data/video\\AVSS/AVSS_AB_Easy.avi\".replace('\\\\', '/')\n",
    "    video_src = \"/Users/jerrychen/Downloads/chute01/cam1.avi\"\n",
    "\n",
    "cv2.namedWindow('motion-history')\n",
    "cv2.namedWindow('raw')\n",
    "cv2.moveWindow('raw', 200, 0)\n",
    "\n",
    "cam = cv2.VideoCapture(video_src)\n",
    "ret, frame = cam.read()\n",
    "h, w = frame.shape[:2]\n",
    "prev_frame = frame.copy()\n",
    "motion_history = np.zeros((h, w), np.float32)\n",
    "timestamp = 0\n",
    "# flag = 1\n",
    "currentFrame = 0\n",
    "\n",
    "if not os.path.exists(\"testDataSet\"):\n",
    "    os.makedirs(\"testDataSet\")\n",
    "\n",
    "while True:\n",
    "    ret, frame = cam.read()   \n",
    "    if not ret:\n",
    "        break\n",
    "    # frame = cv2.cvtColor(frame, cv2.COLOR_BGR2GRAY)\n",
    "    # cv2.fastNlMeansDenoising(frame, None, 30, 7, 21) \n",
    "    \n",
    "    #frame = cv2.GaussianBlur(frame, (9,9), cv2.BORDER_DEFAULT)\n",
    "    \n",
    "    frame_diff = cv2.absdiff(frame, prev_frame)\n",
    "    gray_diff = cv2.cvtColor(frame_diff, cv2.COLOR_BGR2GRAY)\n",
    "    \n",
    "    #cv2.fastNlMeansDenoising(gray_diff, None, 40, 7, 21) \n",
    "    #gray_diff = cv2.GaussianBlur(gray_diff, (5,5), cv2.BORDER_DEFAULT)\n",
    "    \n",
    "    \n",
    "    ret, fgmask = cv2.threshold(gray_diff, DEFAULT_THRESHOLD, 1, cv2.THRESH_BINARY)\n",
    "    timestamp += 1\n",
    "\n",
    "    # update motion history\n",
    "    cv2.motempl.updateMotionHistory(fgmask, motion_history, timestamp, MHI_DURATION)\n",
    "\n",
    "    # normalize motion history\n",
    "    flag += 1\n",
    "    mh = np.uint8(np.clip((motion_history - (timestamp - MHI_DURATION)) / MHI_DURATION, 0, 1) * 255)\n",
    "    \n",
    "    \"\"\" if flag == 10:\n",
    "        print(mh[:20][:10])\n",
    "        flag += 1\n",
    "        cv2.imshow('mhi', mh)\"\"\"\n",
    "        \n",
    "    cv2.imshow('motion-history', mh)\n",
    "    cv2.imshow('raw', frame)\n",
    "    \n",
    "    \n",
    "\n",
    "    prev_frame = frame.copy()\n",
    "    if 0xFF & cv2.waitKey(5) == 27:\n",
    "        break\n",
    "\n",
    "cv2.destroyAllWindows()"
   ]
  }
 ],
 "metadata": {
  "kernelspec": {
   "display_name": "Python 3.9.8 64-bit",
   "language": "python",
   "name": "python3"
  },
  "language_info": {
   "codemirror_mode": {
    "name": "ipython",
    "version": 3
   },
   "file_extension": ".py",
   "mimetype": "text/x-python",
   "name": "python",
   "nbconvert_exporter": "python",
   "pygments_lexer": "ipython3",
   "version": "3.9.8"
  },
  "orig_nbformat": 4,
  "vscode": {
   "interpreter": {
    "hash": "aee8b7b246df8f9039afb4144a1f6fd8d2ca17a180786b69acc140d282b71a49"
   }
  }
 },
 "nbformat": 4,
 "nbformat_minor": 2
}
